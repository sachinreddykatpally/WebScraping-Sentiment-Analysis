{
 "cells": [
  {
   "cell_type": "code",
   "execution_count": 45,
   "metadata": {},
   "outputs": [
    {
     "name": "stdout",
     "output_type": "stream",
     "text": [
      "[nltk_data] Downloading package stopwords to\n",
      "[nltk_data]     C:\\Users\\katpve01\\AppData\\Roaming\\nltk_data...\n",
      "[nltk_data]   Package stopwords is already up-to-date!\n"
     ]
    },
    {
     "data": {
      "text/plain": [
       "True"
      ]
     },
     "execution_count": 45,
     "metadata": {},
     "output_type": "execute_result"
    }
   ],
   "source": [
    "from bs4 import BeautifulSoup\n",
    "from urllib.request import urlopen\n",
    "import requests\n",
    "from string import punctuation\n",
    "from nltk import word_tokenize\n",
    "from nltk.corpus import stopwords\n",
    "from nltk.tokenize import wordpunct_tokenize\n",
    "import nltk\n",
    "nltk.download(\"stopwords\")"
   ]
  },
  {
   "cell_type": "code",
   "execution_count": 44,
   "metadata": {
    "collapsed": true
   },
   "outputs": [
    {
     "name": "stdout",
     "output_type": "stream",
     "text": [
      "[nltk_data] Downloading package stopwords to\n",
      "[nltk_data]     C:\\Users\\katpve01\\AppData\\Roaming\\nltk_data...\n",
      "[nltk_data]   Unzipping corpora\\stopwords.zip.\n"
     ]
    },
    {
     "data": {
      "text/plain": [
       "True"
      ]
     },
     "execution_count": 44,
     "metadata": {},
     "output_type": "execute_result"
    }
   ],
   "source": [
    "import nltk\n",
    "nltk.download(\"stopwords\")"
   ]
  },
  {
   "cell_type": "code",
   "execution_count": 46,
   "metadata": {
    "collapsed": true
   },
   "outputs": [],
   "source": [
    "mainurl = urlopen('http://www.theguardian.com/profile/sidlowe').read()"
   ]
  },
  {
   "cell_type": "code",
   "execution_count": 47,
   "metadata": {},
   "outputs": [
    {
     "name": "stderr",
     "output_type": "stream",
     "text": [
      "C:\\Users\\katpve01\\Continuum\\Anaconda3\\lib\\site-packages\\bs4\\__init__.py:181: UserWarning: No parser was explicitly specified, so I'm using the best available HTML parser for this system (\"lxml\"). This usually isn't a problem, but if you run this code on another system, or in a different virtual environment, it may use a different parser and behave differently.\n",
      "\n",
      "The code that caused this warning is on line 193 of the file C:\\Users\\katpve01\\Continuum\\Anaconda3\\lib\\runpy.py. To get rid of this warning, change code that looks like this:\n",
      "\n",
      " BeautifulSoup(YOUR_MARKUP})\n",
      "\n",
      "to this:\n",
      "\n",
      " BeautifulSoup(YOUR_MARKUP, \"lxml\")\n",
      "\n",
      "  markup_type=markup_type))\n"
     ]
    }
   ],
   "source": [
    "soup = BeautifulSoup(mainurl)"
   ]
  },
  {
   "cell_type": "code",
   "execution_count": 48,
   "metadata": {
    "collapsed": true
   },
   "outputs": [],
   "source": [
    "anchortags = soup.find_all('a')"
   ]
  },
  {
   "cell_type": "code",
   "execution_count": 49,
   "metadata": {
    "collapsed": true
   },
   "outputs": [],
   "source": [
    "players = ['Lionel Messi','Cristiano Ronaldo','Luis Suarez','Arjen Robben','Neymar','Manuel Neuer','Eden Hazard',\n",
    "             'Paul Pogba','James Rodriguez','Sergio Aguero','Alexis Sanchez','Gareth Bale','Gareth Bale','Sergio Busquets',\n",
    "             'Thomas Muller','Andres Iniesta','Luka Modric','Gerard Pique','Philip Lahm','Javier Mascherano',\n",
    "             'Diego Godin','Toni Kroos','Arturo Vidal','Karim Benzema','Zlatan Ibrahimovic','Gianluigi Buffon',\n",
    "             'Marco Reus','Kevin de Bruyne','David de Gea','Robert Lewandowski','Diego Costa','Thibaut Courtois',\n",
    "             'Thiago Silva','Sergio Ramos','Ivan Rakitic','Mesut Ozil','Angel di Maria','David Silva','Cesc Fabregas',\n",
    "             'Dani Alves','Carlos Tevez','Isco','Antoine Griezmann','Jerome Boateng','Wayne Ronney','Mario Gotze',\n",
    "          'Mats Hummels','David alaba','Nemanja Matic','Ricardo Rodriguez','Koke']"
   ]
  },
  {
   "cell_type": "code",
   "execution_count": 50,
   "metadata": {
    "collapsed": true
   },
   "outputs": [],
   "source": [
    "teams=['Barcelona','Real Madrid','Atletico Madrid','Villarreal','Athletic','Celta Vigo','Sevilla','Malaga',\n",
    "          'Real Sociedad','Betis','Laspalmas','Valencia','Espanyol','Eibar','Deportivo','Granada','Sporting De Guon','Rayo Vallecano','Getafo','Levante']"
   ]
  },
  {
   "cell_type": "code",
   "execution_count": 51,
   "metadata": {
    "collapsed": true
   },
   "outputs": [],
   "source": [
    "dictPlayerCount = {}\n",
    "\n",
    "dictTeamCount= {}"
   ]
  },
  {
   "cell_type": "code",
   "execution_count": 52,
   "metadata": {
    "collapsed": true
   },
   "outputs": [],
   "source": [
    "def getPlayersStagging(players):\n",
    "    \n",
    "    players_stagging = []\n",
    "    for player in players:\n",
    "        if len(player.split()) > 1:\n",
    "            players_stagging.append(player.split()[1])\n",
    "        else:\n",
    "            players_stagging.append(player)\n",
    "    return list(set([x.lower() for x in players_stagging]))"
   ]
  },
  {
   "cell_type": "code",
   "execution_count": 53,
   "metadata": {
    "collapsed": true
   },
   "outputs": [],
   "source": [
    "def getTeams(teams):\n",
    "    teams_name = []\n",
    "    for team in teams:\n",
    "        if len(team.split()) > 1:\n",
    "            teams_name.append(team.split()[1])\n",
    "        else:\n",
    "            teams_name.append(team)\n",
    "    return list(set([x.lower() for x in teams_name]))"
   ]
  },
  {
   "cell_type": "code",
   "execution_count": 54,
   "metadata": {
    "collapsed": true
   },
   "outputs": [],
   "source": [
    "def strip_punctuation(s):\n",
    "      return ''.join(c for c in s if c not in punctuation)"
   ]
  },
  {
   "cell_type": "code",
   "execution_count": 55,
   "metadata": {
    "collapsed": true
   },
   "outputs": [],
   "source": [
    "def getPlayersList(anchorTag, index):\n",
    "    url = urlopen(anchorTag[index].get(\"href\"))\n",
    "    content = url.read()\n",
    "    soup = BeautifulSoup(content, \"lxml\")\n",
    "    htmlsource = soup.get_text().lower()\n",
    "    filteredPunctuation = strip_punctuation(htmlsource)\n",
    "    filtered_words = [word for word in filteredPunctuation.split() if word not in stopwords.words('english')]\n",
    "    return filtered_words"
   ]
  },
  {
   "cell_type": "code",
   "execution_count": 56,
   "metadata": {
    "collapsed": true
   },
   "outputs": [],
   "source": [
    "def populatePlayersDict(commonPlayersList):\n",
    "    for player in commonPlayersList:\n",
    "        if player in dictPlayerCount:\n",
    "            dictPlayerCount[player] += 1\n",
    "        else:\n",
    "            dictPlayerCount[player] = 1"
   ]
  },
  {
   "cell_type": "code",
   "execution_count": 57,
   "metadata": {
    "collapsed": true
   },
   "outputs": [],
   "source": [
    "def populateTeamDict(commonTeamList):\n",
    "    for team in commonTeamList:\n",
    "        if team in dictTeamCount:\n",
    "            dictTeamCount[team] += 1\n",
    "        else:\n",
    "            dictTeamCount[team] = 1"
   ]
  },
  {
   "cell_type": "code",
   "execution_count": 58,
   "metadata": {
    "collapsed": true
   },
   "outputs": [],
   "source": [
    "players_stagging = getPlayersStagging(players)\n",
    "team_stagging=getTeams(teams)"
   ]
  },
  {
   "cell_type": "code",
   "execution_count": 64,
   "metadata": {},
   "outputs": [
    {
     "name": "stdout",
     "output_type": "stream",
     "text": [
      "{'neuer': 3, 'de': 18, 'matic': 3, 'costa': 75, 'vidal': 3, 'ronaldo': 18, 'messi': 6}\n",
      "{'madrid': 63, 'de': 18, 'barcelona': 264}\n"
     ]
    }
   ],
   "source": [
    "for i in range(1,50):\n",
    "    playersList = getPlayersList(anchortags, i)\n",
    "    commonPlayersList = [player for player in playersList if player in players_stagging]\n",
    "    commonTeamList = [team for team in playersList if team in team_stagging]\n",
    "    \n",
    "    populatePlayersDict(commonPlayersList)\n",
    "    populateTeamDict(commonTeamList)\n",
    "\n",
    "print(dictPlayerCount)\n",
    "print(dictTeamCount)"
   ]
  },
  {
   "cell_type": "code",
   "execution_count": 65,
   "metadata": {},
   "outputs": [
    {
     "data": {
      "image/png": "[encoded data removed]",
      "text/plain": [
       "<matplotlib.figure.Figure at 0x1d4300ada58>"
      ]
     },
     "metadata": {},
     "output_type": "display_data"
    }
   ],
   "source": [
    "import matplotlib.pyplot as plt\n",
    "plt.bar(range(len(dictPlayerCount)), dictPlayerCount.values(), align='center')\n",
    "plt.xticks(range(len(dictPlayerCount)), dictPlayerCount.keys())\n",
    "plt.show()"
   ]
  },
  {
   "cell_type": "code",
   "execution_count": null,
   "metadata": {
    "collapsed": true
   },
   "outputs": [],
   "source": []
  }
 ],
 "metadata": {
  "kernelspec": {
   "display_name": "Python [default]",
   "language": "python",
   "name": "python3"
  },
  "language_info": {
   "codemirror_mode": {
    "name": "ipython",
    "version": 3
   },
   "file_extension": ".py",
   "mimetype": "text/x-python",
   "name": "python",
   "nbconvert_exporter": "python",
   "pygments_lexer": "ipython3",
   "version": "3.5.3"
  }
 },
 "nbformat": 4,
 "nbformat_minor": 2
}
